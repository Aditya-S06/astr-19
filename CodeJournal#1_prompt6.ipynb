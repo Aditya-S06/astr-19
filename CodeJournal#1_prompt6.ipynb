{
 "cells": [
  {
   "cell_type": "markdown",
   "id": "5260d8b6",
   "metadata": {},
   "source": [
    "Library Initializations"
   ]
  },
  {
   "cell_type": "code",
   "execution_count": 33,
   "id": "6fce21f2",
   "metadata": {},
   "outputs": [],
   "source": [
    "import math \n",
    "import numpy as np"
   ]
  },
  {
   "cell_type": "markdown",
   "id": "0ddf9dd9",
   "metadata": {},
   "source": [
    "Beginning of main function and storing 10 x - values in even intervals between 0 and 2"
   ]
  },
  {
   "cell_type": "code",
   "execution_count": 34,
   "id": "ac40c231",
   "metadata": {},
   "outputs": [],
   "source": [
    "def main():\n",
    "\n",
    "    xVals = np.linspace(0, 2, 10)\n",
    "    "
   ]
  },
  {
   "cell_type": "markdown",
   "id": "00d888f3",
   "metadata": {},
   "source": [
    "Sin Function that takes the x value array and returns an array of the sin result "
   ]
  },
  {
   "cell_type": "code",
   "execution_count": 35,
   "id": "8f517247",
   "metadata": {},
   "outputs": [],
   "source": [
    "def sin(xVals):\n",
    "\n",
    "    return [math.sin(x) for x in xVals]\n",
    "        "
   ]
  },
  {
   "cell_type": "markdown",
   "id": "7df99897",
   "metadata": {},
   "source": [
    "Cos Function that takes the x value array and returns an array of the cos result "
   ]
  },
  {
   "cell_type": "code",
   "execution_count": 36,
   "id": "f103b1a7",
   "metadata": {},
   "outputs": [],
   "source": [
    "def cos(xVals):\n",
    "\n",
    "    return [math.cos(x) for x in xVals]"
   ]
  },
  {
   "cell_type": "markdown",
   "id": "b8237790",
   "metadata": {},
   "source": [
    "Redifining main function to print the iterations of the result of sin and cos"
   ]
  },
  {
   "cell_type": "code",
   "execution_count": 37,
   "id": "ece7d642",
   "metadata": {},
   "outputs": [],
   "source": [
    "def main():\n",
    "    xVals = np.linspace(0, 2, 10)\n",
    "    sin_vals = sin(xVals)\n",
    "    cos_vals = cos(xVals)\n",
    "\n",
    "    for x, s, c in zip(xVals, sin_vals, cos_vals):\n",
    "        print(f\"x: {x:.4f}    sin(x): {s:.4f}    cos(x): {c:.4f}\")"
   ]
  },
  {
   "cell_type": "markdown",
   "id": "01e3647e",
   "metadata": {},
   "source": [
    "Running the main Function"
   ]
  },
  {
   "cell_type": "code",
   "execution_count": 38,
   "id": "36430f43",
   "metadata": {},
   "outputs": [
    {
     "name": "stdout",
     "output_type": "stream",
     "text": [
      "x: 0.0000    sin(x): 0.0000    cos(x): 1.0000\n",
      "x: 0.2222    sin(x): 0.2204    cos(x): 0.9754\n",
      "x: 0.4444    sin(x): 0.4300    cos(x): 0.9028\n",
      "x: 0.6667    sin(x): 0.6184    cos(x): 0.7859\n",
      "x: 0.8889    sin(x): 0.7764    cos(x): 0.6303\n",
      "x: 1.1111    sin(x): 0.8962    cos(x): 0.4437\n",
      "x: 1.3333    sin(x): 0.9719    cos(x): 0.2352\n",
      "x: 1.5556    sin(x): 0.9999    cos(x): 0.0152\n",
      "x: 1.7778    sin(x): 0.9787    cos(x): -0.2055\n",
      "x: 2.0000    sin(x): 0.9093    cos(x): -0.4161\n"
     ]
    }
   ],
   "source": [
    "if __name__ == \"__main__\":\n",
    "    main()"
   ]
  }
 ],
 "metadata": {
  "kernelspec": {
   "display_name": "Python 3",
   "language": "python",
   "name": "python3"
  },
  "language_info": {
   "codemirror_mode": {
    "name": "ipython",
    "version": 3
   },
   "file_extension": ".py",
   "mimetype": "text/x-python",
   "name": "python",
   "nbconvert_exporter": "python",
   "pygments_lexer": "ipython3",
   "version": "3.12.5"
  }
 },
 "nbformat": 4,
 "nbformat_minor": 5
}
